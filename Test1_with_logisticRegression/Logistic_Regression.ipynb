{
 "cells": [
  {
   "cell_type": "code",
   "execution_count": 1,
   "id": "ab9520ed",
   "metadata": {},
   "outputs": [],
   "source": [
    "import numpy as np\n",
    "import pandas as pd\n",
    "import matplotlib.pyplot as plt \n",
    "import seaborn as sns "
   ]
  },
  {
   "cell_type": "code",
   "execution_count": 6,
   "id": "3749bce8",
   "metadata": {},
   "outputs": [
    {
     "data": {
      "text/html": [
       "<div>\n",
       "<style scoped>\n",
       "    .dataframe tbody tr th:only-of-type {\n",
       "        vertical-align: middle;\n",
       "    }\n",
       "\n",
       "    .dataframe tbody tr th {\n",
       "        vertical-align: top;\n",
       "    }\n",
       "\n",
       "    .dataframe thead th {\n",
       "        text-align: right;\n",
       "    }\n",
       "</style>\n",
       "<table border=\"1\" class=\"dataframe\">\n",
       "  <thead>\n",
       "    <tr style=\"text-align: right;\">\n",
       "      <th></th>\n",
       "      <th>numPulses</th>\n",
       "      <th>GNE_NSR_SEO</th>\n",
       "      <th>mean_MFCC_1st_coef</th>\n",
       "      <th>mean_MFCC_6th_coef</th>\n",
       "      <th>std_MFCC_8th_coef</th>\n",
       "      <th>tqwt_energy_dec_27</th>\n",
       "      <th>tqwt_energy_dec_31</th>\n",
       "      <th>tqwt_energy_dec_35</th>\n",
       "      <th>tqwt_entropy_shannon_dec_32</th>\n",
       "      <th>tqwt_TKEO_mean_dec_21</th>\n",
       "      <th>...</th>\n",
       "      <th>tqwt_medianValue_dec_26</th>\n",
       "      <th>tqwt_medianValue_dec_34</th>\n",
       "      <th>tqwt_meanValue_dec_9</th>\n",
       "      <th>tqwt_meanValue_dec_11</th>\n",
       "      <th>tqwt_meanValue_dec_21</th>\n",
       "      <th>tqwt_meanValue_dec_26</th>\n",
       "      <th>tqwt_skewnessValue_dec_3</th>\n",
       "      <th>tqwt_skewnessValue_dec_21</th>\n",
       "      <th>tqwt_skewnessValue_dec_28</th>\n",
       "      <th>class</th>\n",
       "    </tr>\n",
       "  </thead>\n",
       "  <tbody>\n",
       "    <tr>\n",
       "      <th>0</th>\n",
       "      <td>240.0</td>\n",
       "      <td>3.0152</td>\n",
       "      <td>8.4781</td>\n",
       "      <td>-1.51440</td>\n",
       "      <td>0.17101</td>\n",
       "      <td>0.108070</td>\n",
       "      <td>0.000007</td>\n",
       "      <td>0.000001</td>\n",
       "      <td>0.036109</td>\n",
       "      <td>0.010913</td>\n",
       "      <td>...</td>\n",
       "      <td>-2.220000e-17</td>\n",
       "      <td>-0.000202</td>\n",
       "      <td>1.230000e-20</td>\n",
       "      <td>-1.630000e-20</td>\n",
       "      <td>-6.330000e-20</td>\n",
       "      <td>-7.210000e-19</td>\n",
       "      <td>1.110000e-15</td>\n",
       "      <td>-4.470000e-17</td>\n",
       "      <td>-0.102900</td>\n",
       "      <td>1.0</td>\n",
       "    </tr>\n",
       "    <tr>\n",
       "      <th>1</th>\n",
       "      <td>234.0</td>\n",
       "      <td>3.0600</td>\n",
       "      <td>8.5008</td>\n",
       "      <td>-1.67590</td>\n",
       "      <td>0.16785</td>\n",
       "      <td>0.098360</td>\n",
       "      <td>0.000015</td>\n",
       "      <td>0.000002</td>\n",
       "      <td>0.068996</td>\n",
       "      <td>0.007092</td>\n",
       "      <td>...</td>\n",
       "      <td>-3.790000e-17</td>\n",
       "      <td>-0.000158</td>\n",
       "      <td>2.030000e-20</td>\n",
       "      <td>-1.680000e-20</td>\n",
       "      <td>3.090000e-19</td>\n",
       "      <td>3.150000e-19</td>\n",
       "      <td>-3.290000e-15</td>\n",
       "      <td>-7.020000e-20</td>\n",
       "      <td>-0.005679</td>\n",
       "      <td>1.0</td>\n",
       "    </tr>\n",
       "    <tr>\n",
       "      <th>2</th>\n",
       "      <td>232.0</td>\n",
       "      <td>3.0309</td>\n",
       "      <td>7.6362</td>\n",
       "      <td>-1.49290</td>\n",
       "      <td>0.21901</td>\n",
       "      <td>0.106910</td>\n",
       "      <td>0.000026</td>\n",
       "      <td>0.000004</td>\n",
       "      <td>0.050766</td>\n",
       "      <td>0.002236</td>\n",
       "      <td>...</td>\n",
       "      <td>-1.580000e-17</td>\n",
       "      <td>-0.000136</td>\n",
       "      <td>-1.050000e-21</td>\n",
       "      <td>7.080000e-22</td>\n",
       "      <td>1.760000e-19</td>\n",
       "      <td>-2.700000e-19</td>\n",
       "      <td>-3.420000e-15</td>\n",
       "      <td>1.200000e-16</td>\n",
       "      <td>-0.003824</td>\n",
       "      <td>1.0</td>\n",
       "    </tr>\n",
       "    <tr>\n",
       "      <th>3</th>\n",
       "      <td>178.0</td>\n",
       "      <td>3.0293</td>\n",
       "      <td>6.7365</td>\n",
       "      <td>-0.65556</td>\n",
       "      <td>0.24529</td>\n",
       "      <td>0.002072</td>\n",
       "      <td>0.000207</td>\n",
       "      <td>0.000054</td>\n",
       "      <td>4.267800</td>\n",
       "      <td>0.105100</td>\n",
       "      <td>...</td>\n",
       "      <td>1.105400e-03</td>\n",
       "      <td>-0.000313</td>\n",
       "      <td>2.940000e-20</td>\n",
       "      <td>5.630000e-20</td>\n",
       "      <td>7.780000e-19</td>\n",
       "      <td>-2.340000e-18</td>\n",
       "      <td>6.455000e-02</td>\n",
       "      <td>-1.281100e-03</td>\n",
       "      <td>0.027619</td>\n",
       "      <td>1.0</td>\n",
       "    </tr>\n",
       "    <tr>\n",
       "      <th>4</th>\n",
       "      <td>236.0</td>\n",
       "      <td>3.0362</td>\n",
       "      <td>6.4634</td>\n",
       "      <td>-0.51876</td>\n",
       "      <td>0.22090</td>\n",
       "      <td>0.001152</td>\n",
       "      <td>0.000166</td>\n",
       "      <td>0.000028</td>\n",
       "      <td>3.941400</td>\n",
       "      <td>0.118100</td>\n",
       "      <td>...</td>\n",
       "      <td>8.909500e-03</td>\n",
       "      <td>0.000663</td>\n",
       "      <td>-1.170000e-20</td>\n",
       "      <td>1.280000e-20</td>\n",
       "      <td>-1.700000e-18</td>\n",
       "      <td>-8.110000e-19</td>\n",
       "      <td>-4.187600e-03</td>\n",
       "      <td>3.441400e-03</td>\n",
       "      <td>0.011756</td>\n",
       "      <td>1.0</td>\n",
       "    </tr>\n",
       "  </tbody>\n",
       "</table>\n",
       "<p>5 rows × 21 columns</p>\n",
       "</div>"
      ],
      "text/plain": [
       "   numPulses  GNE_NSR_SEO  mean_MFCC_1st_coef  mean_MFCC_6th_coef  \\\n",
       "0      240.0       3.0152              8.4781            -1.51440   \n",
       "1      234.0       3.0600              8.5008            -1.67590   \n",
       "2      232.0       3.0309              7.6362            -1.49290   \n",
       "3      178.0       3.0293              6.7365            -0.65556   \n",
       "4      236.0       3.0362              6.4634            -0.51876   \n",
       "\n",
       "   std_MFCC_8th_coef  tqwt_energy_dec_27  tqwt_energy_dec_31  \\\n",
       "0            0.17101            0.108070            0.000007   \n",
       "1            0.16785            0.098360            0.000015   \n",
       "2            0.21901            0.106910            0.000026   \n",
       "3            0.24529            0.002072            0.000207   \n",
       "4            0.22090            0.001152            0.000166   \n",
       "\n",
       "   tqwt_energy_dec_35  tqwt_entropy_shannon_dec_32  tqwt_TKEO_mean_dec_21  \\\n",
       "0            0.000001                     0.036109               0.010913   \n",
       "1            0.000002                     0.068996               0.007092   \n",
       "2            0.000004                     0.050766               0.002236   \n",
       "3            0.000054                     4.267800               0.105100   \n",
       "4            0.000028                     3.941400               0.118100   \n",
       "\n",
       "   ...  tqwt_medianValue_dec_26  tqwt_medianValue_dec_34  \\\n",
       "0  ...            -2.220000e-17                -0.000202   \n",
       "1  ...            -3.790000e-17                -0.000158   \n",
       "2  ...            -1.580000e-17                -0.000136   \n",
       "3  ...             1.105400e-03                -0.000313   \n",
       "4  ...             8.909500e-03                 0.000663   \n",
       "\n",
       "   tqwt_meanValue_dec_9  tqwt_meanValue_dec_11  tqwt_meanValue_dec_21  \\\n",
       "0          1.230000e-20          -1.630000e-20          -6.330000e-20   \n",
       "1          2.030000e-20          -1.680000e-20           3.090000e-19   \n",
       "2         -1.050000e-21           7.080000e-22           1.760000e-19   \n",
       "3          2.940000e-20           5.630000e-20           7.780000e-19   \n",
       "4         -1.170000e-20           1.280000e-20          -1.700000e-18   \n",
       "\n",
       "   tqwt_meanValue_dec_26  tqwt_skewnessValue_dec_3  tqwt_skewnessValue_dec_21  \\\n",
       "0          -7.210000e-19              1.110000e-15              -4.470000e-17   \n",
       "1           3.150000e-19             -3.290000e-15              -7.020000e-20   \n",
       "2          -2.700000e-19             -3.420000e-15               1.200000e-16   \n",
       "3          -2.340000e-18              6.455000e-02              -1.281100e-03   \n",
       "4          -8.110000e-19             -4.187600e-03               3.441400e-03   \n",
       "\n",
       "   tqwt_skewnessValue_dec_28  class  \n",
       "0                  -0.102900    1.0  \n",
       "1                  -0.005679    1.0  \n",
       "2                  -0.003824    1.0  \n",
       "3                   0.027619    1.0  \n",
       "4                   0.011756    1.0  \n",
       "\n",
       "[5 rows x 21 columns]"
      ]
     },
     "execution_count": 6,
     "metadata": {},
     "output_type": "execute_result"
    }
   ],
   "source": [
    "df = pd.read_csv(r'D:\\Parkinson_project\\data\\featured_data.csv')\n",
    "df = df.drop('Unnamed: 0',axis=1)\n",
    "df.head()"
   ]
  },
  {
   "cell_type": "code",
   "execution_count": 7,
   "id": "2374b226",
   "metadata": {},
   "outputs": [],
   "source": [
    "X = df.drop('class',axis=1)\n",
    "y = df['class']"
   ]
  },
  {
   "cell_type": "code",
   "execution_count": 11,
   "id": "7dacc519",
   "metadata": {},
   "outputs": [],
   "source": [
    "from sklearn.model_selection import train_test_split\n",
    "\n",
    "X_train,X_test,y_train,y_test = train_test_split(X,y,train_size=0.7,random_state=28)"
   ]
  },
  {
   "cell_type": "code",
   "execution_count": 13,
   "id": "a5015583",
   "metadata": {},
   "outputs": [],
   "source": [
    "from sklearn.linear_model import LogisticRegression\n",
    "\n",
    "model1 = LogisticRegression(max_iter=100000)\n",
    "model1.fit(X_train, y_train)\n",
    "pred1 = model1.predict(X_test)"
   ]
  },
  {
   "cell_type": "code",
   "execution_count": 19,
   "id": "ef54ef59",
   "metadata": {},
   "outputs": [
    {
     "data": {
      "text/plain": [
       "0.8378378378378377"
      ]
     },
     "execution_count": 19,
     "metadata": {},
     "output_type": "execute_result"
    }
   ],
   "source": [
    "from sklearn.metrics import f1_score ,precision_score , recall_score ,accuracy_score,confusion_matrix\n",
    "f1_score(y_test,pred1)"
   ]
  },
  {
   "cell_type": "code",
   "execution_count": 20,
   "id": "9c2a8c71",
   "metadata": {},
   "outputs": [
    {
     "data": {
      "text/plain": [
       "0.7524271844660194"
      ]
     },
     "execution_count": 20,
     "metadata": {},
     "output_type": "execute_result"
    }
   ],
   "source": [
    "precision_score(y_test,pred1)"
   ]
  },
  {
   "cell_type": "code",
   "execution_count": 21,
   "id": "1fdcd91e",
   "metadata": {},
   "outputs": [
    {
     "data": {
      "text/plain": [
       "0.9451219512195121"
      ]
     },
     "execution_count": 21,
     "metadata": {},
     "output_type": "execute_result"
    }
   ],
   "source": [
    "recall_score(y_test,pred1)"
   ]
  },
  {
   "cell_type": "code",
   "execution_count": 22,
   "id": "b2a849eb",
   "metadata": {},
   "outputs": [
    {
     "data": {
      "text/plain": [
       "0.73568281938326"
      ]
     },
     "execution_count": 22,
     "metadata": {},
     "output_type": "execute_result"
    }
   ],
   "source": [
    "accuracy_score(y_test,pred1)"
   ]
  },
  {
   "cell_type": "code",
   "execution_count": 23,
   "id": "6bfb00e1",
   "metadata": {},
   "outputs": [
    {
     "data": {
      "text/plain": [
       "array([[ 12,  51],\n",
       "       [  9, 155]], dtype=int64)"
      ]
     },
     "execution_count": 23,
     "metadata": {},
     "output_type": "execute_result"
    }
   ],
   "source": [
    "confusion_matrix(y_test,pred1)"
   ]
  },
  {
   "cell_type": "markdown",
   "id": "6818916a",
   "metadata": {},
   "source": [
    "## hyperparameter tuning logistic regression"
   ]
  },
  {
   "cell_type": "code",
   "execution_count": 25,
   "id": "e276b7cb",
   "metadata": {},
   "outputs": [
    {
     "name": "stdout",
     "output_type": "stream",
     "text": [
      "Fitting 5 folds for each of 4 candidates, totalling 20 fits\n",
      "[CV] END ...........................penalty=l1, solver=lbfgs; total time=   0.0s\n",
      "[CV] END ...........................penalty=l1, solver=lbfgs; total time=   0.0s\n",
      "[CV] END ...........................penalty=l1, solver=lbfgs; total time=   0.0s\n",
      "[CV] END ...........................penalty=l1, solver=lbfgs; total time=   0.0s\n",
      "[CV] END ...........................penalty=l1, solver=lbfgs; total time=   0.0s\n",
      "[CV] END .......................penalty=l1, solver=liblinear; total time=   0.0s\n",
      "[CV] END .......................penalty=l1, solver=liblinear; total time=   0.0s\n",
      "[CV] END .......................penalty=l1, solver=liblinear; total time=   0.0s\n",
      "[CV] END .......................penalty=l1, solver=liblinear; total time=   0.0s\n",
      "[CV] END .......................penalty=l1, solver=liblinear; total time=   0.0s\n",
      "[CV] END ...........................penalty=l2, solver=lbfgs; total time=   0.3s\n",
      "[CV] END ...........................penalty=l2, solver=lbfgs; total time=   0.0s\n",
      "[CV] END ...........................penalty=l2, solver=lbfgs; total time=   0.0s\n",
      "[CV] END ...........................penalty=l2, solver=lbfgs; total time=   0.0s\n",
      "[CV] END ...........................penalty=l2, solver=lbfgs; total time=   0.0s\n",
      "[CV] END .......................penalty=l2, solver=liblinear; total time=   0.0s\n",
      "[CV] END .......................penalty=l2, solver=liblinear; total time=   0.0s\n",
      "[CV] END .......................penalty=l2, solver=liblinear; total time=   0.0s\n",
      "[CV] END .......................penalty=l2, solver=liblinear; total time=   0.0s\n",
      "[CV] END .......................penalty=l2, solver=liblinear; total time=   0.0s\n"
     ]
    },
    {
     "name": "stderr",
     "output_type": "stream",
     "text": [
      "C:\\Users\\yoke pc\\anaconda3\\envs\\yoke01\\lib\\site-packages\\sklearn\\model_selection\\_validation.py:372: FitFailedWarning: \n",
      "5 fits failed out of a total of 20.\n",
      "The score on these train-test partitions for these parameters will be set to nan.\n",
      "If these failures are not expected, you can try to debug them by setting error_score='raise'.\n",
      "\n",
      "Below are more details about the failures:\n",
      "--------------------------------------------------------------------------------\n",
      "5 fits failed with the following error:\n",
      "Traceback (most recent call last):\n",
      "  File \"C:\\Users\\yoke pc\\anaconda3\\envs\\yoke01\\lib\\site-packages\\sklearn\\model_selection\\_validation.py\", line 680, in _fit_and_score\n",
      "    estimator.fit(X_train, y_train, **fit_params)\n",
      "  File \"C:\\Users\\yoke pc\\anaconda3\\envs\\yoke01\\lib\\site-packages\\sklearn\\linear_model\\_logistic.py\", line 1461, in fit\n",
      "    solver = _check_solver(self.solver, self.penalty, self.dual)\n",
      "  File \"C:\\Users\\yoke pc\\anaconda3\\envs\\yoke01\\lib\\site-packages\\sklearn\\linear_model\\_logistic.py\", line 447, in _check_solver\n",
      "    raise ValueError(\n",
      "ValueError: Solver lbfgs supports only 'l2' or 'none' penalties, got l1 penalty.\n",
      "\n",
      "  warnings.warn(some_fits_failed_message, FitFailedWarning)\n",
      "C:\\Users\\yoke pc\\anaconda3\\envs\\yoke01\\lib\\site-packages\\sklearn\\model_selection\\_search.py:969: UserWarning: One or more of the test scores are non-finite: [       nan 0.78264151 0.78454627 0.78264151]\n",
      "  warnings.warn(\n"
     ]
    },
    {
     "data": {
      "text/plain": [
       "GridSearchCV(cv=5, estimator=LogisticRegression(max_iter=10000),\n",
       "             param_grid={'penalty': ['l1', 'l2'],\n",
       "                         'solver': ['lbfgs', 'liblinear']},\n",
       "             verbose=2)"
      ]
     },
     "execution_count": 25,
     "metadata": {},
     "output_type": "execute_result"
    }
   ],
   "source": [
    "from sklearn.model_selection import GridSearchCV\n",
    "params_grid = {'penalty':['l1','l2'],'solver':['lbfgs','liblinear']}\n",
    "\n",
    "grid_model1 = GridSearchCV(LogisticRegression(max_iter=10000),param_grid=params_grid,cv=5,verbose=2)\n",
    "grid_model1.fit(X_train, y_train)"
   ]
  },
  {
   "cell_type": "code",
   "execution_count": 27,
   "id": "dce03308",
   "metadata": {},
   "outputs": [
    {
     "data": {
      "text/plain": [
       "{'penalty': 'l2', 'solver': 'lbfgs'}"
      ]
     },
     "execution_count": 27,
     "metadata": {},
     "output_type": "execute_result"
    }
   ],
   "source": [
    "grid_model1.best_params_"
   ]
  },
  {
   "cell_type": "code",
   "execution_count": 28,
   "id": "d0d1a06c",
   "metadata": {},
   "outputs": [
    {
     "name": "stdout",
     "output_type": "stream",
     "text": [
      "0.8378378378378377\n",
      "0.9451219512195121\n",
      "0.7524271844660194\n",
      "0.73568281938326\n"
     ]
    },
    {
     "data": {
      "text/plain": [
       "array([[ 12,  51],\n",
       "       [  9, 155]], dtype=int64)"
      ]
     },
     "execution_count": 28,
     "metadata": {},
     "output_type": "execute_result"
    }
   ],
   "source": [
    "grid1_pred = grid_model1.predict(X_test)\n",
    "print(f1_score(y_test,grid1_pred))\n",
    "print(recall_score(y_test,grid1_pred))\n",
    "print(precision_score(y_test,grid1_pred))\n",
    "print(accuracy_score(y_test,grid1_pred))\n",
    "confusion_matrix(y_test,grid1_pred)"
   ]
  },
  {
   "cell_type": "code",
   "execution_count": null,
   "id": "76f2d50b",
   "metadata": {},
   "outputs": [],
   "source": []
  }
 ],
 "metadata": {
  "kernelspec": {
   "display_name": "Python 3 (ipykernel)",
   "language": "python",
   "name": "python3"
  },
  "language_info": {
   "codemirror_mode": {
    "name": "ipython",
    "version": 3
   },
   "file_extension": ".py",
   "mimetype": "text/x-python",
   "name": "python",
   "nbconvert_exporter": "python",
   "pygments_lexer": "ipython3",
   "version": "3.9.0"
  }
 },
 "nbformat": 4,
 "nbformat_minor": 5
}
