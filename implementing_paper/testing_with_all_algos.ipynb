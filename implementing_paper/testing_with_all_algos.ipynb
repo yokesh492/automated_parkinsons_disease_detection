{
 "cells": [
  {
   "cell_type": "code",
   "execution_count": 1,
   "metadata": {},
   "outputs": [],
   "source": [
    "import pandas as pd\n",
    "import numpy as np \n",
    "import seaborn as sns \n",
    "import matplotlib.pyplot as plt"
   ]
  },
  {
   "cell_type": "code",
   "execution_count": 2,
   "id": "71df6664",
   "metadata": {},
   "outputs": [
    {
     "data": {
      "text/html": [
       "<div>\n",
       "<style scoped>\n",
       "    .dataframe tbody tr th:only-of-type {\n",
       "        vertical-align: middle;\n",
       "    }\n",
       "\n",
       "    .dataframe tbody tr th {\n",
       "        vertical-align: top;\n",
       "    }\n",
       "\n",
       "    .dataframe thead th {\n",
       "        text-align: right;\n",
       "    }\n",
       "</style>\n",
       "<table border=\"1\" class=\"dataframe\">\n",
       "  <thead>\n",
       "    <tr style=\"text-align: right;\">\n",
       "      <th></th>\n",
       "      <th>numPulses</th>\n",
       "      <th>GNE_NSR_SEO</th>\n",
       "      <th>mean_MFCC_1st_coef</th>\n",
       "      <th>mean_MFCC_6th_coef</th>\n",
       "      <th>std_MFCC_8th_coef</th>\n",
       "      <th>tqwt_energy_dec_27</th>\n",
       "      <th>tqwt_energy_dec_31</th>\n",
       "      <th>tqwt_energy_dec_35</th>\n",
       "      <th>tqwt_entropy_shannon_dec_32</th>\n",
       "      <th>tqwt_TKEO_mean_dec_21</th>\n",
       "      <th>...</th>\n",
       "      <th>tqwt_medianValue_dec_26</th>\n",
       "      <th>tqwt_medianValue_dec_34</th>\n",
       "      <th>tqwt_meanValue_dec_9</th>\n",
       "      <th>tqwt_meanValue_dec_11</th>\n",
       "      <th>tqwt_meanValue_dec_21</th>\n",
       "      <th>tqwt_meanValue_dec_26</th>\n",
       "      <th>tqwt_skewnessValue_dec_3</th>\n",
       "      <th>tqwt_skewnessValue_dec_21</th>\n",
       "      <th>tqwt_skewnessValue_dec_28</th>\n",
       "      <th>class</th>\n",
       "    </tr>\n",
       "  </thead>\n",
       "  <tbody>\n",
       "    <tr>\n",
       "      <th>0</th>\n",
       "      <td>240.0</td>\n",
       "      <td>3.0152</td>\n",
       "      <td>8.4781</td>\n",
       "      <td>-1.51440</td>\n",
       "      <td>0.17101</td>\n",
       "      <td>0.108070</td>\n",
       "      <td>0.000007</td>\n",
       "      <td>0.000001</td>\n",
       "      <td>0.036109</td>\n",
       "      <td>0.010913</td>\n",
       "      <td>...</td>\n",
       "      <td>-2.220000e-17</td>\n",
       "      <td>-0.000202</td>\n",
       "      <td>1.230000e-20</td>\n",
       "      <td>-1.630000e-20</td>\n",
       "      <td>-6.330000e-20</td>\n",
       "      <td>-7.210000e-19</td>\n",
       "      <td>1.110000e-15</td>\n",
       "      <td>-4.470000e-17</td>\n",
       "      <td>-0.102900</td>\n",
       "      <td>1.0</td>\n",
       "    </tr>\n",
       "    <tr>\n",
       "      <th>1</th>\n",
       "      <td>234.0</td>\n",
       "      <td>3.0600</td>\n",
       "      <td>8.5008</td>\n",
       "      <td>-1.67590</td>\n",
       "      <td>0.16785</td>\n",
       "      <td>0.098360</td>\n",
       "      <td>0.000015</td>\n",
       "      <td>0.000002</td>\n",
       "      <td>0.068996</td>\n",
       "      <td>0.007092</td>\n",
       "      <td>...</td>\n",
       "      <td>-3.790000e-17</td>\n",
       "      <td>-0.000158</td>\n",
       "      <td>2.030000e-20</td>\n",
       "      <td>-1.680000e-20</td>\n",
       "      <td>3.090000e-19</td>\n",
       "      <td>3.150000e-19</td>\n",
       "      <td>-3.290000e-15</td>\n",
       "      <td>-7.020000e-20</td>\n",
       "      <td>-0.005679</td>\n",
       "      <td>1.0</td>\n",
       "    </tr>\n",
       "    <tr>\n",
       "      <th>2</th>\n",
       "      <td>232.0</td>\n",
       "      <td>3.0309</td>\n",
       "      <td>7.6362</td>\n",
       "      <td>-1.49290</td>\n",
       "      <td>0.21901</td>\n",
       "      <td>0.106910</td>\n",
       "      <td>0.000026</td>\n",
       "      <td>0.000004</td>\n",
       "      <td>0.050766</td>\n",
       "      <td>0.002236</td>\n",
       "      <td>...</td>\n",
       "      <td>-1.580000e-17</td>\n",
       "      <td>-0.000136</td>\n",
       "      <td>-1.050000e-21</td>\n",
       "      <td>7.080000e-22</td>\n",
       "      <td>1.760000e-19</td>\n",
       "      <td>-2.700000e-19</td>\n",
       "      <td>-3.420000e-15</td>\n",
       "      <td>1.200000e-16</td>\n",
       "      <td>-0.003824</td>\n",
       "      <td>1.0</td>\n",
       "    </tr>\n",
       "    <tr>\n",
       "      <th>3</th>\n",
       "      <td>178.0</td>\n",
       "      <td>3.0293</td>\n",
       "      <td>6.7365</td>\n",
       "      <td>-0.65556</td>\n",
       "      <td>0.24529</td>\n",
       "      <td>0.002072</td>\n",
       "      <td>0.000207</td>\n",
       "      <td>0.000054</td>\n",
       "      <td>4.267800</td>\n",
       "      <td>0.105100</td>\n",
       "      <td>...</td>\n",
       "      <td>1.105400e-03</td>\n",
       "      <td>-0.000313</td>\n",
       "      <td>2.940000e-20</td>\n",
       "      <td>5.630000e-20</td>\n",
       "      <td>7.780000e-19</td>\n",
       "      <td>-2.340000e-18</td>\n",
       "      <td>6.455000e-02</td>\n",
       "      <td>-1.281100e-03</td>\n",
       "      <td>0.027619</td>\n",
       "      <td>1.0</td>\n",
       "    </tr>\n",
       "    <tr>\n",
       "      <th>4</th>\n",
       "      <td>236.0</td>\n",
       "      <td>3.0362</td>\n",
       "      <td>6.4634</td>\n",
       "      <td>-0.51876</td>\n",
       "      <td>0.22090</td>\n",
       "      <td>0.001152</td>\n",
       "      <td>0.000166</td>\n",
       "      <td>0.000028</td>\n",
       "      <td>3.941400</td>\n",
       "      <td>0.118100</td>\n",
       "      <td>...</td>\n",
       "      <td>8.909500e-03</td>\n",
       "      <td>0.000663</td>\n",
       "      <td>-1.170000e-20</td>\n",
       "      <td>1.280000e-20</td>\n",
       "      <td>-1.700000e-18</td>\n",
       "      <td>-8.110000e-19</td>\n",
       "      <td>-4.187600e-03</td>\n",
       "      <td>3.441400e-03</td>\n",
       "      <td>0.011756</td>\n",
       "      <td>1.0</td>\n",
       "    </tr>\n",
       "  </tbody>\n",
       "</table>\n",
       "<p>5 rows × 21 columns</p>\n",
       "</div>"
      ],
      "text/plain": [
       "   numPulses  GNE_NSR_SEO  mean_MFCC_1st_coef  mean_MFCC_6th_coef  \\\n",
       "0      240.0       3.0152              8.4781            -1.51440   \n",
       "1      234.0       3.0600              8.5008            -1.67590   \n",
       "2      232.0       3.0309              7.6362            -1.49290   \n",
       "3      178.0       3.0293              6.7365            -0.65556   \n",
       "4      236.0       3.0362              6.4634            -0.51876   \n",
       "\n",
       "   std_MFCC_8th_coef  tqwt_energy_dec_27  tqwt_energy_dec_31  \\\n",
       "0            0.17101            0.108070            0.000007   \n",
       "1            0.16785            0.098360            0.000015   \n",
       "2            0.21901            0.106910            0.000026   \n",
       "3            0.24529            0.002072            0.000207   \n",
       "4            0.22090            0.001152            0.000166   \n",
       "\n",
       "   tqwt_energy_dec_35  tqwt_entropy_shannon_dec_32  tqwt_TKEO_mean_dec_21  \\\n",
       "0            0.000001                     0.036109               0.010913   \n",
       "1            0.000002                     0.068996               0.007092   \n",
       "2            0.000004                     0.050766               0.002236   \n",
       "3            0.000054                     4.267800               0.105100   \n",
       "4            0.000028                     3.941400               0.118100   \n",
       "\n",
       "   ...  tqwt_medianValue_dec_26  tqwt_medianValue_dec_34  \\\n",
       "0  ...            -2.220000e-17                -0.000202   \n",
       "1  ...            -3.790000e-17                -0.000158   \n",
       "2  ...            -1.580000e-17                -0.000136   \n",
       "3  ...             1.105400e-03                -0.000313   \n",
       "4  ...             8.909500e-03                 0.000663   \n",
       "\n",
       "   tqwt_meanValue_dec_9  tqwt_meanValue_dec_11  tqwt_meanValue_dec_21  \\\n",
       "0          1.230000e-20          -1.630000e-20          -6.330000e-20   \n",
       "1          2.030000e-20          -1.680000e-20           3.090000e-19   \n",
       "2         -1.050000e-21           7.080000e-22           1.760000e-19   \n",
       "3          2.940000e-20           5.630000e-20           7.780000e-19   \n",
       "4         -1.170000e-20           1.280000e-20          -1.700000e-18   \n",
       "\n",
       "   tqwt_meanValue_dec_26  tqwt_skewnessValue_dec_3  tqwt_skewnessValue_dec_21  \\\n",
       "0          -7.210000e-19              1.110000e-15              -4.470000e-17   \n",
       "1           3.150000e-19             -3.290000e-15              -7.020000e-20   \n",
       "2          -2.700000e-19             -3.420000e-15               1.200000e-16   \n",
       "3          -2.340000e-18              6.455000e-02              -1.281100e-03   \n",
       "4          -8.110000e-19             -4.187600e-03               3.441400e-03   \n",
       "\n",
       "   tqwt_skewnessValue_dec_28  class  \n",
       "0                  -0.102900    1.0  \n",
       "1                  -0.005679    1.0  \n",
       "2                  -0.003824    1.0  \n",
       "3                   0.027619    1.0  \n",
       "4                   0.011756    1.0  \n",
       "\n",
       "[5 rows x 21 columns]"
      ]
     },
     "execution_count": 2,
     "metadata": {},
     "output_type": "execute_result"
    }
   ],
   "source": [
    "df = pd.read_csv(r'D:\\Parkinson_project\\data\\featured_data.csv')\n",
    "df = df.drop('Unnamed: 0',axis=1)\n",
    "df.head()"
   ]
  },
  {
   "cell_type": "code",
   "execution_count": 3,
   "id": "e3d957ae",
   "metadata": {},
   "outputs": [],
   "source": [
    "df['class'] = df['class'].astype('int64')"
   ]
  },
  {
   "cell_type": "code",
   "execution_count": 4,
   "id": "aa488a45",
   "metadata": {},
   "outputs": [],
   "source": [
    "from sklearn.model_selection import GridSearchCV\n",
    "from sklearn.model_selection import train_test_split\n",
    "\n",
    "x = df.drop('class',axis = 1)\n",
    "y = df['class']\n",
    "\n",
    "X_train , X_test , y_train , y_test = train_test_split(x,y,train_size=0.7,random_state=28,stratify=y)\n"
   ]
  },
  {
   "cell_type": "markdown",
   "id": "db034ee6",
   "metadata": {},
   "source": [
    "# Gradient Boosting Algorithm \n",
    "\n",
    "Gradient boosting (GB) generates new modelssequentially from an ensemble of poor models with the aimof minimizing the loss function with each new model [31].The gradient descent method is used to calculate the lossfunction and hence, every new model is more accuratelyfitted with the use of the loss function. Thus, the overallaccuracy is increased as a result of the observations. On theother hand, boosting must be stopped at some point;otherwise, the model would be overfitted. \n",
    "\n"
   ]
  },
  {
   "cell_type": "code",
   "execution_count": 5,
   "id": "a5fc9ec4",
   "metadata": {},
   "outputs": [],
   "source": [
    "from sklearn.ensemble import GradientBoostingClassifier\n",
    "from sklearn.metrics import f1_score,confusion_matrix,recall_score,precision_score,accuracy_score"
   ]
  },
  {
   "cell_type": "markdown",
   "id": "c1a8d431",
   "metadata": {},
   "source": [
    "### Before Tuning"
   ]
  },
  {
   "cell_type": "code",
   "execution_count": 6,
   "id": "9a0ef943",
   "metadata": {},
   "outputs": [],
   "source": [
    "GB_model = GradientBoostingClassifier()\n",
    "GB_model.fit(X_train, y_train)\n",
    "pred2 = GB_model.predict(X_test)"
   ]
  },
  {
   "cell_type": "code",
   "execution_count": 7,
   "id": "8a568b44",
   "metadata": {},
   "outputs": [
    {
     "name": "stdout",
     "output_type": "stream",
     "text": [
      "0.9277777777777777\n",
      "0.9881656804733728\n",
      "0.8743455497382199\n",
      "[[ 34  24]\n",
      " [  2 167]]\n"
     ]
    },
    {
     "data": {
      "text/plain": [
       "0.8854625550660793"
      ]
     },
     "execution_count": 7,
     "metadata": {},
     "output_type": "execute_result"
    }
   ],
   "source": [
    "print(f1_score(y_test,pred2))\n",
    "print(recall_score(y_test,pred2))\n",
    "print(precision_score(y_test,pred2))\n",
    "print(confusion_matrix(y_test,pred2))\n",
    "\n",
    "accuracy_score(y_test,pred2)"
   ]
  },
  {
   "cell_type": "markdown",
   "id": "0746a13d",
   "metadata": {},
   "source": [
    "#### After tuning"
   ]
  },
  {
   "cell_type": "code",
   "execution_count": 8,
   "id": "12875e01",
   "metadata": {},
   "outputs": [
    {
     "name": "stdout",
     "output_type": "stream",
     "text": [
      "Fitting 3 folds for each of 48 candidates, totalling 144 fits\n"
     ]
    },
    {
     "data": {
      "text/plain": [
       "GridSearchCV(cv=3, estimator=GradientBoostingClassifier(),\n",
       "             param_grid={'learning_rate': [0.1, 0.5, 1, 5],\n",
       "                         'max_depth': [3, 4, 6, 10],\n",
       "                         'n_estimators': [100, 200, 300]},\n",
       "             scoring='accuracy', verbose=1)"
      ]
     },
     "execution_count": 8,
     "metadata": {},
     "output_type": "execute_result"
    }
   ],
   "source": [
    "param_grid = {'learning_rate':[0.1,0.5,1,5],'n_estimators':[100,200,300],'max_depth':[3,4,6,10]}\n",
    "\n",
    "gridGB = GridSearchCV(GradientBoostingClassifier(),param_grid,cv=3,verbose=1,scoring='accuracy')\n",
    "gridGB.fit(X_train, y_train)"
   ]
  },
  {
   "cell_type": "code",
   "execution_count": 9,
   "id": "333c05f3",
   "metadata": {},
   "outputs": [
    {
     "data": {
      "text/plain": [
       "0.8562853107344632"
      ]
     },
     "execution_count": 9,
     "metadata": {},
     "output_type": "execute_result"
    }
   ],
   "source": [
    "gridGB.best_score_"
   ]
  },
  {
   "cell_type": "code",
   "execution_count": 10,
   "id": "9f64f399",
   "metadata": {},
   "outputs": [
    {
     "data": {
      "text/plain": [
       "{'learning_rate': 0.1, 'max_depth': 3, 'n_estimators': 300}"
      ]
     },
     "execution_count": 10,
     "metadata": {},
     "output_type": "execute_result"
    }
   ],
   "source": [
    "gridGB.best_params_"
   ]
  },
  {
   "cell_type": "code",
   "execution_count": 11,
   "id": "97cb53bd",
   "metadata": {},
   "outputs": [
    {
     "name": "stdout",
     "output_type": "stream",
     "text": [
      "0.9217877094972067\n",
      "0.9763313609467456\n",
      "0.873015873015873\n",
      "[[ 34  24]\n",
      " [  4 165]]\n"
     ]
    },
    {
     "data": {
      "text/plain": [
       "0.8766519823788547"
      ]
     },
     "execution_count": 11,
     "metadata": {},
     "output_type": "execute_result"
    }
   ],
   "source": [
    "pred3 = gridGB.predict(X_test)\n",
    "\n",
    "print(f1_score(y_test,pred3))\n",
    "print(recall_score(y_test,pred3))\n",
    "print(precision_score(y_test,pred3))\n",
    "print(confusion_matrix(y_test,pred3))\n",
    "\n",
    "accuracy_score(y_test,pred3)"
   ]
  },
  {
   "cell_type": "markdown",
   "id": "b30764d6",
   "metadata": {},
   "source": [
    "after tuning we got increase in acc from 0.82 o 0.86 , and there is reduction of the ft"
   ]
  },
  {
   "cell_type": "markdown",
   "id": "b48820a1",
   "metadata": {},
   "source": [
    "# Adaboost algorithm \n",
    "\n",
    "Adaptive Boosting is a machine learning algorithmwhich can be flexible to transform a collection of weak dataitem to strong ones [34]. Hence a strong classifier isconstructed where the learners are trained consecutively.Compared to other classification methods, AdaBoostrequires less twitching of the parameters and is slightersusceptible to data overfitting"
   ]
  },
  {
   "cell_type": "code",
   "execution_count": 12,
   "id": "2ec9468a",
   "metadata": {},
   "outputs": [],
   "source": [
    "from sklearn.ensemble import AdaBoostClassifier\n",
    "\n",
    "AB = AdaBoostClassifier()\n",
    "AB.fit(X_train, y_train)\n",
    "pred4 = AB.predict(X_test)"
   ]
  },
  {
   "cell_type": "code",
   "execution_count": 13,
   "id": "e210eb5b",
   "metadata": {},
   "outputs": [
    {
     "name": "stdout",
     "output_type": "stream",
     "text": [
      "0.9157303370786516\n",
      "0.9644970414201184\n",
      "0.8716577540106952\n",
      "[[ 34  24]\n",
      " [  6 163]]\n"
     ]
    },
    {
     "data": {
      "text/plain": [
       "0.8678414096916299"
      ]
     },
     "execution_count": 13,
     "metadata": {},
     "output_type": "execute_result"
    }
   ],
   "source": [
    "\n",
    "print(f1_score(y_test,pred4))\n",
    "print(recall_score(y_test,pred4))\n",
    "print(precision_score(y_test,pred4))\n",
    "print(confusion_matrix(y_test,pred4))\n",
    "\n",
    "accuracy_score(y_test,pred4)"
   ]
  },
  {
   "cell_type": "markdown",
   "id": "6565f549",
   "metadata": {},
   "source": [
    "#### After Tuning "
   ]
  },
  {
   "cell_type": "code",
   "execution_count": 14,
   "id": "1ae48e0b",
   "metadata": {},
   "outputs": [
    {
     "name": "stdout",
     "output_type": "stream",
     "text": [
      "Fitting 3 folds for each of 12 candidates, totalling 36 fits\n"
     ]
    },
    {
     "data": {
      "text/plain": [
       "GridSearchCV(cv=3, estimator=AdaBoostClassifier(),\n",
       "             param_grid={'learning_rate': [0.1, 0.5, 1, 5],\n",
       "                         'n_estimators': [50, 75, 100]},\n",
       "             scoring='accuracy', verbose=1)"
      ]
     },
     "execution_count": 14,
     "metadata": {},
     "output_type": "execute_result"
    }
   ],
   "source": [
    "param_grid = {'n_estimators':[50,75,100],'learning_rate':[0.1,0.5,1,5]}\n",
    "gridab = GridSearchCV(AdaBoostClassifier(),param_grid,cv=3,verbose=1,scoring='accuracy')\n",
    "gridab.fit(X_train,y_train)"
   ]
  },
  {
   "cell_type": "code",
   "execution_count": 15,
   "id": "2746987e",
   "metadata": {},
   "outputs": [
    {
     "data": {
      "text/plain": [
       "{'learning_rate': 1, 'n_estimators': 100}"
      ]
     },
     "execution_count": 15,
     "metadata": {},
     "output_type": "execute_result"
    }
   ],
   "source": [
    "gridab.best_params_"
   ]
  },
  {
   "cell_type": "code",
   "execution_count": 16,
   "id": "0db7a972",
   "metadata": {},
   "outputs": [
    {
     "data": {
      "text/plain": [
       "0.8336329395651428"
      ]
     },
     "execution_count": 16,
     "metadata": {},
     "output_type": "execute_result"
    }
   ],
   "source": [
    "gridab.best_score_"
   ]
  },
  {
   "cell_type": "code",
   "execution_count": 17,
   "id": "ab99d3af",
   "metadata": {},
   "outputs": [
    {
     "name": "stdout",
     "output_type": "stream",
     "text": [
      "0.9121813031161473\n",
      "0.9526627218934911\n",
      "0.875\n",
      "[[ 35  23]\n",
      " [  8 161]]\n"
     ]
    },
    {
     "data": {
      "text/plain": [
       "0.8634361233480177"
      ]
     },
     "execution_count": 17,
     "metadata": {},
     "output_type": "execute_result"
    }
   ],
   "source": [
    "pred5 = gridab.predict(X_test)\n",
    "\n",
    "print(f1_score(y_test,pred5))\n",
    "print(recall_score(y_test,pred5))\n",
    "print(precision_score(y_test,pred5))\n",
    "print(confusion_matrix(y_test,pred5))\n",
    "\n",
    "accuracy_score(y_test,pred5)"
   ]
  },
  {
   "cell_type": "code",
   "execution_count": 18,
   "id": "5de8e72e",
   "metadata": {},
   "outputs": [
    {
     "name": "stdout",
     "output_type": "stream",
     "text": [
      "<class 'pandas.core.frame.DataFrame'>\n",
      "RangeIndex: 756 entries, 0 to 755\n",
      "Data columns (total 21 columns):\n",
      " #   Column                       Non-Null Count  Dtype  \n",
      "---  ------                       --------------  -----  \n",
      " 0   numPulses                    756 non-null    float64\n",
      " 1   GNE_NSR_SEO                  756 non-null    float64\n",
      " 2   mean_MFCC_1st_coef           756 non-null    float64\n",
      " 3   mean_MFCC_6th_coef           756 non-null    float64\n",
      " 4   std_MFCC_8th_coef            756 non-null    float64\n",
      " 5   tqwt_energy_dec_27           756 non-null    float64\n",
      " 6   tqwt_energy_dec_31           756 non-null    float64\n",
      " 7   tqwt_energy_dec_35           756 non-null    float64\n",
      " 8   tqwt_entropy_shannon_dec_32  756 non-null    float64\n",
      " 9   tqwt_TKEO_mean_dec_21        756 non-null    float64\n",
      " 10  tqwt_medianValue_dec_25      756 non-null    float64\n",
      " 11  tqwt_medianValue_dec_26      756 non-null    float64\n",
      " 12  tqwt_medianValue_dec_34      756 non-null    float64\n",
      " 13  tqwt_meanValue_dec_9         756 non-null    float64\n",
      " 14  tqwt_meanValue_dec_11        756 non-null    float64\n",
      " 15  tqwt_meanValue_dec_21        756 non-null    float64\n",
      " 16  tqwt_meanValue_dec_26        756 non-null    float64\n",
      " 17  tqwt_skewnessValue_dec_3     756 non-null    float64\n",
      " 18  tqwt_skewnessValue_dec_21    756 non-null    float64\n",
      " 19  tqwt_skewnessValue_dec_28    756 non-null    float64\n",
      " 20  class                        756 non-null    int64  \n",
      "dtypes: float64(20), int64(1)\n",
      "memory usage: 124.2 KB\n"
     ]
    }
   ],
   "source": [
    "df.info()"
   ]
  },
  {
   "cell_type": "markdown",
   "id": "6abd2159",
   "metadata": {},
   "source": [
    "# XGB\n",
    "\n",
    "XG Boost is a gradient boosting framework-basedensemble machine learning algorithm [33]. This algorithmappears to be one of the most effective algorithms forperforming regression, classification, ranking and predictiveanalysis. It is capable of completing a wide range of tasks byusing gradient descent layout to improve weak features indatasets. However, scalability is one of XGBoost's mostimportant features, as it allows for well-structured memoryuse and directs instantaneous training through parallel anddistributed computing. "
   ]
  },
  {
   "cell_type": "code",
   "execution_count": 19,
   "id": "756c8d61",
   "metadata": {},
   "outputs": [],
   "source": [
    "import warnings\n",
    "warnings.filterwarnings('ignore')"
   ]
  },
  {
   "cell_type": "code",
   "execution_count": 20,
   "id": "3e59ef29",
   "metadata": {},
   "outputs": [],
   "source": [
    "from xgboost import XGBClassifier\n",
    "\n",
    "xgb = XGBClassifier(objective='binary:logistic',\n",
    "                          booster='gbtree',\n",
    "                          eval_metric='auc',\n",
    "                          tree_method='hist',\n",
    "                          grow_policy='lossguide',\n",
    "                          use_label_encoder=False)\n",
    "xgb.fit(X_train, y_train)\n",
    "pred6 = xgb.predict(X_test)"
   ]
  },
  {
   "cell_type": "code",
   "execution_count": 21,
   "id": "438e8c7c",
   "metadata": {},
   "outputs": [
    {
     "name": "stdout",
     "output_type": "stream",
     "text": [
      "0.9162011173184357\n",
      "0.9704142011834319\n",
      "0.8677248677248677\n",
      "[[ 33  25]\n",
      " [  5 164]]\n"
     ]
    },
    {
     "data": {
      "text/plain": [
       "0.8678414096916299"
      ]
     },
     "execution_count": 21,
     "metadata": {},
     "output_type": "execute_result"
    }
   ],
   "source": [
    "print(f1_score(y_test,pred6))\n",
    "print(recall_score(y_test,pred6))\n",
    "print(precision_score(y_test,pred6))\n",
    "print(confusion_matrix(y_test,pred6))\n",
    "\n",
    "accuracy_score(y_test,pred6)"
   ]
  },
  {
   "cell_type": "markdown",
   "id": "9863b52d",
   "metadata": {},
   "source": [
    "#### Tuning parameters with gridserachcv"
   ]
  },
  {
   "cell_type": "code",
   "execution_count": 23,
   "id": "ec6b2289",
   "metadata": {},
   "outputs": [
    {
     "name": "stdout",
     "output_type": "stream",
     "text": [
      "Fitting 3 folds for each of 12960 candidates, totalling 38880 fits\n"
     ]
    },
    {
     "data": {
      "text/plain": [
       "GridSearchCV(cv=3,\n",
       "             estimator=XGBClassifier(base_score=None, booster='gbtree',\n",
       "                                     colsample_bylevel=None,\n",
       "                                     colsample_bynode=None,\n",
       "                                     colsample_bytree=None,\n",
       "                                     enable_categorical=False,\n",
       "                                     eval_metric='auc', gamma=None, gpu_id=None,\n",
       "                                     grow_policy='lossguide',\n",
       "                                     importance_type=None,\n",
       "                                     interaction_constraints=None,\n",
       "                                     learning_rate=None, max_delta_step=None,\n",
       "                                     max_depth=None, min_child_weig...\n",
       "                                     reg_lambda=None, scale_pos_weight=None,\n",
       "                                     subsample=None, tree_method='hist',\n",
       "                                     use_label_encoder=False,\n",
       "                                     validate_parameters=None, ...),\n",
       "             param_grid={'gamma': [0, 0.1, 1.6, 3.2, 6.4],\n",
       "                         'learning_rate': [0.01, 0.1, 0.2, 0.300000012, 0.4,\n",
       "                                           0.5],\n",
       "                         'max_depth': [5, 6, 10, 14],\n",
       "                         'n_estimators': [50, 100, 120],\n",
       "                         'reg_alpha': [0, 0.1, 0.8, 1.6, 3.2, 6.4],\n",
       "                         'reg_lambda': [0, 0.1, 0.8, 1.6, 3.2, 6.4]},\n",
       "             scoring='accuracy', verbose=1)"
      ]
     },
     "execution_count": 23,
     "metadata": {},
     "output_type": "execute_result"
    }
   ],
   "source": [
    "param_grid = {'gamma': [0,0.1,1.6,3.2,6.4],\n",
    "              'learning_rate': [0.01, 0.1, 0.2, 0.300000012, 0.4, 0.5,],\n",
    "              'max_depth': [5,6,10,14],\n",
    "              'n_estimators': [50,100,120],\n",
    "              'reg_alpha': [0,0.1,0.8,1.6,3.2,6.4],\n",
    "              'reg_lambda': [0,0.1,0.8,1.6,3.2,6.4]}\n",
    "\n",
    "model = XGBClassifier(objective='binary:logistic',\n",
    "                          booster='gbtree',\n",
    "                          eval_metric='auc',tree_method='hist',grow_policy='lossguide',use_label_encoder=False)\n",
    "gridxgb = GridSearchCV(model,param_grid,cv=3,verbose=1,scoring='accuracy')\n",
    "gridxgb.fit(X_train, y_train)"
   ]
  },
  {
   "cell_type": "code",
   "execution_count": 24,
   "id": "f3ae664d",
   "metadata": {},
   "outputs": [
    {
     "data": {
      "text/plain": [
       "{'gamma': 0,\n",
       " 'learning_rate': 0.5,\n",
       " 'max_depth': 5,\n",
       " 'n_estimators': 100,\n",
       " 'reg_alpha': 0.8,\n",
       " 'reg_lambda': 6.4}"
      ]
     },
     "execution_count": 24,
     "metadata": {},
     "output_type": "execute_result"
    }
   ],
   "source": [
    "gridxgb.best_params_"
   ]
  },
  {
   "cell_type": "code",
   "execution_count": 25,
   "id": "531116fb",
   "metadata": {},
   "outputs": [
    {
     "data": {
      "text/plain": [
       "0.869542886492039"
      ]
     },
     "execution_count": 25,
     "metadata": {},
     "output_type": "execute_result"
    }
   ],
   "source": [
    "gridxgb.best_score_"
   ]
  },
  {
   "cell_type": "code",
   "execution_count": 30,
   "id": "bacf0e91",
   "metadata": {},
   "outputs": [
    {
     "name": "stdout",
     "output_type": "stream",
     "text": [
      "0.923943661971831\n",
      "0.9704142011834319\n",
      "0.8817204301075269\n",
      "[[ 36  22]\n",
      " [  5 164]]\n"
     ]
    },
    {
     "data": {
      "text/plain": [
       "0.8810572687224669"
      ]
     },
     "execution_count": 30,
     "metadata": {},
     "output_type": "execute_result"
    }
   ],
   "source": [
    "pred7 = gridxgb.predict(X_test)\n",
    "\n",
    "print(f1_score(y_test,pred7))\n",
    "print(recall_score(y_test,pred7))\n",
    "print(precision_score(y_test,pred7))\n",
    "print(confusion_matrix(y_test,pred7))\n",
    "\n",
    "accuracy_score(y_test,pred7)"
   ]
  },
  {
   "cell_type": "markdown",
   "id": "19b1c378",
   "metadata": {},
   "source": [
    "# Light GBM (LGBM):\n",
    "\n",
    "light GBM is another algorithm that performsclassification, ranking and other machine learning tasksusing a gradient boosting system and a decision treealgorithm. It employs a binary tree's leaf wish split methodinstead of level wish splitting, which speeds up data trainingand decreases memory [32]. Moreover, other boostingalgorithms are less compatible with large datasets than LightGBM. Hence, it emerges as one of the best classifiers thatoutperform other algorithms in data training speed andhandling large datasets. "
   ]
  },
  {
   "cell_type": "code",
   "execution_count": 27,
   "id": "19098263",
   "metadata": {},
   "outputs": [],
   "source": [
    "from lightgbm import LGBMClassifier\n"
   ]
  },
  {
   "cell_type": "code",
   "execution_count": 35,
   "id": "ceb68c3b",
   "metadata": {},
   "outputs": [],
   "source": [
    "LGBM = LGBMClassifier(objective='binary',metric='logloss',is_unbalance=True)\n",
    "LGBM.fit(X_train, y_train)\n",
    "pred8 = LGBM.predict(X_test)\n"
   ]
  },
  {
   "cell_type": "code",
   "execution_count": 36,
   "id": "2360095e",
   "metadata": {},
   "outputs": [
    {
     "name": "stdout",
     "output_type": "stream",
     "text": [
      "0.9261363636363636\n",
      "0.9644970414201184\n",
      "0.8907103825136612\n",
      "[[ 38  20]\n",
      " [  6 163]]\n"
     ]
    },
    {
     "data": {
      "text/plain": [
       "0.8854625550660793"
      ]
     },
     "execution_count": 36,
     "metadata": {},
     "output_type": "execute_result"
    }
   ],
   "source": [
    "\n",
    "print(f1_score(y_test,pred8))\n",
    "print(recall_score(y_test,pred8))\n",
    "print(precision_score(y_test,pred8))\n",
    "print(confusion_matrix(y_test,pred8))\n",
    "\n",
    "accuracy_score(y_test,pred8)"
   ]
  },
  {
   "cell_type": "markdown",
   "id": "77c61140",
   "metadata": {},
   "source": [
    "#### tuning with gridsearchcv"
   ]
  },
  {
   "cell_type": "code",
   "execution_count": 37,
   "id": "e7402617",
   "metadata": {},
   "outputs": [
    {
     "name": "stdout",
     "output_type": "stream",
     "text": [
      "Fitting 3 folds for each of 810 candidates, totalling 2430 fits\n"
     ]
    },
    {
     "data": {
      "text/plain": [
       "GridSearchCV(cv=3,\n",
       "             estimator=LGBMClassifier(is_unbalance=True, metric='logloss',\n",
       "                                      objective='binary'),\n",
       "             param_grid={'learning_rate': [0.01, 0.1, 0.4, 0.5, 0.75],\n",
       "                         'max_depth': [5, 10, 15], 'num_leaves': [12, 31, 39],\n",
       "                         'reg_alpha': [0.01, 0.1, 0.5],\n",
       "                         'reg_lambda': [0.01, 0.1, 0.5],\n",
       "                         'subsample': [0.2, 0.5]},\n",
       "             scoring='accuracy', verbose=1)"
      ]
     },
     "execution_count": 37,
     "metadata": {},
     "output_type": "execute_result"
    }
   ],
   "source": [
    "param_grid = {'learning_rate':[0.01,0.1,0.4,0.5,0.75],'max_depth':[5,10,15],'num_leaves':[12,31,39],'reg_alpha':[0.01,0.1,0.5],'reg_lambda':[0.01,0.1,0.5],'subsample':[0.2,0.5]}\n",
    "\n",
    "model = LGBMClassifier(objective='binary',metric='logloss',is_unbalance=True)\n",
    "\n",
    "grid_lgbm = GridSearchCV(model,param_grid,cv=3,scoring='accuracy',verbose=1)\n",
    "\n",
    "grid_lgbm.fit(X_train,y_train)"
   ]
  },
  {
   "cell_type": "code",
   "execution_count": 39,
   "id": "07dc59fc",
   "metadata": {},
   "outputs": [
    {
     "data": {
      "text/plain": [
       "{'learning_rate': 0.75,\n",
       " 'max_depth': 15,\n",
       " 'num_leaves': 12,\n",
       " 'reg_alpha': 0.01,\n",
       " 'reg_lambda': 0.01,\n",
       " 'subsample': 0.2}"
      ]
     },
     "execution_count": 39,
     "metadata": {},
     "output_type": "execute_result"
    }
   ],
   "source": [
    "grid_lgbm.best_params_"
   ]
  },
  {
   "cell_type": "code",
   "execution_count": 41,
   "id": "691d5bf2",
   "metadata": {},
   "outputs": [
    {
     "name": "stdout",
     "output_type": "stream",
     "text": [
      "0.9291784702549575\n",
      "0.9704142011834319\n",
      "0.8913043478260869\n",
      "[[ 38  20]\n",
      " [  5 164]]\n"
     ]
    },
    {
     "data": {
      "text/plain": [
       "0.8898678414096917"
      ]
     },
     "execution_count": 41,
     "metadata": {},
     "output_type": "execute_result"
    }
   ],
   "source": [
    "pred8 = grid_lgbm.predict(X_test)\n",
    "print(f1_score(y_test,pred8))\n",
    "print(recall_score(y_test,pred8))\n",
    "print(precision_score(y_test,pred8))\n",
    "print(confusion_matrix(y_test,pred8))\n",
    "\n",
    "accuracy_score(y_test,pred8)"
   ]
  },
  {
   "cell_type": "code",
   "execution_count": null,
   "id": "c9435aba",
   "metadata": {},
   "outputs": [],
   "source": []
  }
 ],
 "metadata": {
  "interpreter": {
   "hash": "f5883d45dbabb6c90e5339d0713df15374ba4718ac24f5311b163aacddfe24fd"
  },
  "kernelspec": {
   "display_name": "Python 3.9.0 ('yoke01')",
   "language": "python",
   "name": "python3"
  },
  "language_info": {
   "codemirror_mode": {
    "name": "ipython",
    "version": 3
   },
   "file_extension": ".py",
   "mimetype": "text/x-python",
   "name": "python",
   "nbconvert_exporter": "python",
   "pygments_lexer": "ipython3",
   "version": "3.9.0"
  }
 },
 "nbformat": 4,
 "nbformat_minor": 5
}
